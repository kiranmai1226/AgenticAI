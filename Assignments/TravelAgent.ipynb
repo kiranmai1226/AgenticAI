{
 "cells": [
  {
   "cell_type": "code",
   "execution_count": 105,
   "id": "b98bdf42",
   "metadata": {},
   "outputs": [],
   "source": [
    "# Import required libraries\n",
    "import os\n",
    "from dotenv import load_dotenv\n",
    "from langchain_openai import ChatOpenAI\n",
    "from langchain.tools.tavily_search import TavilySearchResults\n",
    "search=TavilySearchResults()\n",
    "\n",
    "# Load environment variables from a .env file\n",
    "load_dotenv()\n",
    "\n",
    "# Set up API keys (ensure these are stored in your .env file)\n",
    "openai_api_key = os.getenv(\"OPENAI_API_KEY\")\n",
    "tavily_api_key = os.getenv(\"TAVILY_API_KEY\")\n",
    "\n",
    "# Verify that the API keys are loaded\n",
    "if not openai_api_key or not tavily_api_key:\n",
    "    raise ValueError(\"API keys for OpenAI or Tavily are missing. Please check your .env file.\")\n",
    "\n",
    "# Initialize the OpenAI model\n",
    "llm = ChatOpenAI(\n",
    "    model=\"gpt-4o-mini\",\n",
    "    api_key=openai_api_key,\n",
    "    temperature=0.7  # Adjust creativity level\n",
    ")"
   ]
  },
  {
   "cell_type": "code",
   "execution_count": 123,
   "id": "d71e4e35",
   "metadata": {},
   "outputs": [],
   "source": [
    "class CityAttractionTools:\n",
    "    @tool\n",
    "    def search_attraction(city: str) -> str:\n",
    "        \"\"\"Search the real-time attactions in city using tavily.\"\"\"\n",
    "        result = search.invoke(query=f\"Top tourist attractions in {city}\", max_results=3)\n",
    "        return \"\\n\".join(doc['content'] for doc in result[\"results\"])\n",
    "    @tool\n",
    "    def search_restaurent(city: str) -> str:\n",
    "        \"\"\"Search real-time good restuarents in city using tavily.\"\"\"\n",
    "        result=search.invoke(query=f\"Top restaurents in {city}\", max_results=3)\n",
    "        return \"\\n\".join(doc[\"content\"] for doc in result[\"results\"])\n",
    "    @tool\n",
    "    def search_activities(city:str) -> str:\n",
    "        \"\"\"Search the activities to do in city for tourists using tavily\"\"\"\n",
    "        result=search.invoke(query=f\"different activities for tourists in {city}\",max_Results=3)\n",
    "        return \"\\n\".join(doc[\"content\"] for doc in result[\"results\"])\n",
    "    @tool\n",
    "    def search_transportation(city: str) -> str:\n",
    "        \"\"\"Search the different travel types available in city using tavily\"\"\"\n",
    "        result=search.invoke(query=f\"Public transportation options in {city}\",max_results=3)\n",
    "        return \"\\n\".join(doc['content'] for doc in result[\"results\"])"
   ]
  },
  {
   "cell_type": "code",
   "execution_count": 124,
   "id": "61e15a18",
   "metadata": {},
   "outputs": [],
   "source": [
    "class WeatherForecast:\n",
    "    @tool\n",
    "    def current_weather(city: str) -> str:\n",
    "        \"\"\"search real-time weather details using tavily.\"\"\"\n",
    "        result = search.invoke(query=f\"current weather in {city}\", max_results=3)\n",
    "        return \"\\n\".join(doc['content'] for doc in result[\"results\"])\n",
    "    @tool\n",
    "    def weather_forecast(city: str) -> str:\n",
    "        \"\"\"Search real-time weather forecasting using tavily.\"\"\"\n",
    "        result=search.invoke(query=f\"weather forecast in {city}\", max_results=3)\n",
    "        return \"\\n\".join(doc[\"content\"] for doc in result[\"results\"])"
   ]
  },
  {
   "cell_type": "code",
   "execution_count": null,
   "id": "85e3f7a4",
   "metadata": {},
   "outputs": [],
   "source": [
    "class SearchHotelTools:\n",
    "    @tool\n",
    "    def search_hotel(city: str) -> str:\n",
    "        \"\"\"Search the hotels in city using tavily.\"\"\"\n",
    "        result = search.invoke(query=f\"Good hotels to stay for tourists {city}\", max_results=3)\n",
    "        return \"\\n\".join(doc['content'] for doc in result[\"results\"])\n",
    "    @tool\n",
    "    def estimate_cost(hotel: str) -> str:\n",
    "        \"\"\"give estimation cost of hotel using tavily.\"\"\"\n",
    "        result=search.invoke(query=f\"Estimation of cost for {hotel} per room\", max_results=3)\n",
    "        return \"\\n\".join(doc[\"content\"] for doc in result[\"results\"])\n",
    "    @tool\n",
    "    def budget_range(budget:int) -> str:\n",
    "        \"\"\"give the hotels in budget range in city for tourists using tavily\"\"\"\n",
    "        result=search.invoke(query=f\"give the top best hotels for tourists in {budget} range\",max_Results=3)\n",
    "        return \"\\n\".join(doc[\"content\"] for doc in result[\"results\"])\n"
   ]
  },
  {
   "cell_type": "code",
   "execution_count": 125,
   "id": "fa7bf0c7",
   "metadata": {},
   "outputs": [],
   "source": [
    "class TourBudgetTools:\n",
    "    @tool\n",
    "    def add(a:int,b:int) -> int:\n",
    "        \"\"\"\n",
    "        add two integers\n",
    "\n",
    "        Args:\n",
    "        a(int): first integer\n",
    "        b(int): second integer\n",
    "        returns:\n",
    "        int : sum of a and b\n",
    "        \"\"\"\n",
    "        return a+b\n",
    "    @tool\n",
    "    def multiply(a : int, b: int) -> int:\n",
    "        \"\"\" \n",
    "        multiply two integers\n",
    "\n",
    "        Args:\n",
    "        a(int) : first integer\n",
    "        b(int) : second integer\n",
    "        returns:\n",
    "        int : product of two numbers\n",
    "        \"\"\"\n",
    "        return a*b\n",
    "    @tool\n",
    "    def calculated_total_cost(hotel_cost_per_day: float, days: int, activities_cost: float) -> float:\n",
    "        \"\"\"returns total cost of the tour\"\"\"\n",
    "        return hotel_cost_per_day * days + activities_cost\n",
    "    @tool\n",
    "    def calculate_daily_budget(total_cost: float, days: int) -> float:\n",
    "        \"\"\" returns howmuch costs per day\"\"\"\n",
    "        if days == 0:\n",
    "            return 0.0\n",
    "        return total_cost / days\n",
    "\n"
   ]
  },
  {
   "cell_type": "code",
   "execution_count": 126,
   "id": "e6636d87",
   "metadata": {},
   "outputs": [],
   "source": [
    "class CurrencyConversionTools:\n",
    "\n",
    "    @tool\n",
    "    def get_exchange_rate(from_currency: str, to_currency: str) -> str:\n",
    "        \"\"\"get exchange rate of currency from_currency to to_currency\"\"\"\n",
    "        query = f\"Exchange rate {from_currency} to {to_currency}\"\n",
    "        result = search.invoke(query=query, max_results=1)\n",
    "        return result[\"results\"][0][\"content\"]\n",
    "\n",
    "    @tool\n",
    "    def convert_currency(amount: float, from_currency: str, to_currency: str) -> str:\n",
    "        \"\"\" Convert current currency to expected currency\"\"\"\n",
    "\n",
    "        query = f\"{amount} {from_currency} to {to_currency}\"\n",
    "        result = search.invoke(query=query, max_results=1)\n",
    "        content = result[\"results\"][0][\"content\"]\n",
    "        return f\"Currency conversion result: {content}\"\n"
   ]
  },
  {
   "cell_type": "code",
   "execution_count": 127,
   "id": "0f2a0c19",
   "metadata": {},
   "outputs": [],
   "source": [
    "class ItineraryTools:\n",
    "\n",
    "    @tool\n",
    "    def get_day_plan(city: str, day_number: int) -> str:\n",
    "        \"\"\" Give Tour plan day-wise\"\"\"\n",
    "        result = search.invoke(query=f\"Day {day_number} travel plan in {city}\", max_results=1)\n",
    "        return result[\"results\"][0][\"content\"]\n",
    "\n",
    "    @tool\n",
    "    def create_full_itinerary(city: str, days: int) -> str:\n",
    "        \"give travel itinery plann\"\n",
    "        itinerary = []\n",
    "        for day in range(1, days + 1):\n",
    "            day_plan = search.invoke(query=f\"Day {day} travel itinerary in {city}\", max_results=1)\n",
    "            itinerary.append(f\"Day {day}: {day_plan['results'][0]['content']}\")\n",
    "        return \"\\n\".join(itinerary)\n"
   ]
  },
  {
   "cell_type": "code",
   "execution_count": 128,
   "id": "e598aa42",
   "metadata": {},
   "outputs": [],
   "source": [
    "@tool\n",
    "def search_internet(query: str) -> str:\n",
    "    \"\"\"Search from tavily\"\"\"\n",
    "    result = search.invoke(query=query, max_results=3)\n",
    "    return \"\\n\".join([doc[\"content\"] for doc in result[\"results\"]])\n",
    "\n",
    "@tool\n",
    "def search_hotels(city: str) -> str:\n",
    "    \"\"\"Search good hotels using tavily\"\"\"\n",
    "    result = search.invoke(query=f\"Top rated hotels in {city} 2025\", max_results=3)\n",
    "    return \"\\n\".join([doc[\"content\"] for doc in result[\"results\"]])\n",
    "\n",
    "@tool\n",
    "def get_weather(city: str) -> str:\n",
    "    \"\"\"Search good weather using tavily\"\"\"\n",
    "    result = search.invoke(query=f\"Current weather in {city}\", max_results=1)\n",
    "    return result[\"results\"][0][\"content\"]"
   ]
  },
  {
   "cell_type": "code",
   "execution_count": 129,
   "id": "6a9908bd",
   "metadata": {},
   "outputs": [],
   "source": [
    "\n",
    "tools=[CityAttractionTools.search_attraction,\n",
    "           CityAttractionTools.search_restaurent,\n",
    "           CityAttractionTools.search_activities,\n",
    "           CityAttractionTools.search_transportation,WeatherForecast.current_weather,\n",
    "           WeatherForecast.weather_forecast,SearchHotelTools.search_hotel,\n",
    "           SearchHotelTools.estimate_cost,\n",
    "           SearchHotelTools.budget_range,TourBudgetTools.add,\n",
    "           TourBudgetTools.multiply,\n",
    "           TourBudgetTools.calculated_total_cost,\n",
    "           TourBudgetTools.calculate_daily_budget,CurrencyConversionTools.get_exchange_rate,\n",
    "           CurrencyConversionTools.convert_currency,ItineraryTools.get_day_plan,\n",
    "           ItineraryTools.create_full_itinerary]\n"
   ]
  },
  {
   "cell_type": "code",
   "execution_count": 130,
   "id": "d2c3b8ba",
   "metadata": {},
   "outputs": [],
   "source": [
    "llm_with_tools=llm.bind_tools(tools)"
   ]
  },
  {
   "cell_type": "code",
   "execution_count": 131,
   "id": "671f210f",
   "metadata": {},
   "outputs": [],
   "source": [
    "from langchain_core.messages import HumanMessage, SystemMessage\n",
    "from langgraph.graph import MessagesState,StateGraph, END, START"
   ]
  },
  {
   "cell_type": "code",
   "execution_count": 132,
   "id": "a248886b",
   "metadata": {},
   "outputs": [],
   "source": [
    "SYSTEM_PROMPT = SystemMessage(\n",
    "    content=\"You are a helpful assistant tasked with using tavily, give best place to tour and give complete day wise plan to set of inputs.\"\n",
    ")\n",
    "def function_1(state:MessagesState):\n",
    "    \n",
    "    user_question=state[\"messages\"]\n",
    "    \n",
    "    input_question = [SYSTEM_PROMPT]+user_question\n",
    "    \n",
    "    response = llm_with_tools.invoke(input_question)\n",
    "    \n",
    "    return {\n",
    "        \"messages\":[response]\n",
    "    }"
   ]
  },
  {
   "cell_type": "code",
   "execution_count": 133,
   "id": "d12f1414",
   "metadata": {},
   "outputs": [
    {
     "data": {
      "text/plain": [
       "<langgraph.graph.state.StateGraph at 0x1baf9dd1520>"
      ]
     },
     "execution_count": 133,
     "metadata": {},
     "output_type": "execute_result"
    }
   ],
   "source": [
    "builder=StateGraph(MessagesState)\n",
    "builder.add_node(\"llm_decision_step\",function_1)"
   ]
  },
  {
   "cell_type": "code",
   "execution_count": 118,
   "id": "ecb661a1",
   "metadata": {},
   "outputs": [
    {
     "data": {
      "text/plain": [
       "[StructuredTool(name='search_attraction', description='Search the real-time attactions in city using tavily.', args_schema=<class 'langchain_core.utils.pydantic.search_attraction'>, func=<function CityAttractionTools.search_attraction at 0x000001BAFA2BEB60>),\n",
       " StructuredTool(name='search_restaurent', description='Search real-time good restuarents in city using tavily.', args_schema=<class 'langchain_core.utils.pydantic.search_restaurent'>, func=<function CityAttractionTools.search_restaurent at 0x000001BAFA2BF1A0>),\n",
       " StructuredTool(name='search_activities', description='Search the activities to do in city for tourists using tavily', args_schema=<class 'langchain_core.utils.pydantic.search_activities'>, func=<function CityAttractionTools.search_activities at 0x000001BAFA2BEA20>),\n",
       " StructuredTool(name='search_transportation', description='Search the different travel types available in city using tavily', args_schema=<class 'langchain_core.utils.pydantic.search_transportation'>, func=<function CityAttractionTools.search_transportation at 0x000001BAFA2BE840>),\n",
       " StructuredTool(name='current_weather', description='search real-time weather details using tavily.', args_schema=<class 'langchain_core.utils.pydantic.current_weather'>, func=<function WeatherForecast.current_weather at 0x000001BAFA2BED40>),\n",
       " StructuredTool(name='weather_forecast', description='Search real-time weather forecasting using tavily.', args_schema=<class 'langchain_core.utils.pydantic.weather_forecast'>, func=<function WeatherForecast.weather_forecast at 0x000001BAFA2BFCE0>),\n",
       " StructuredTool(name='search_hotel', description='Search the hotels in city using tavily.', args_schema=<class 'langchain_core.utils.pydantic.search_hotel'>, func=<function SearchHotelTools.search_hotel at 0x000001BAFA2BECA0>),\n",
       " StructuredTool(name='estimate_cost', description='give estimation cost of hotel using tavily.', args_schema=<class 'langchain_core.utils.pydantic.estimate_cost'>, func=<function SearchHotelTools.estimate_cost at 0x000001BAFA2BF420>),\n",
       " StructuredTool(name='budget_range', description='give the hotels in budget range in city for tourists using tavily', args_schema=<class 'langchain_core.utils.pydantic.budget_range'>, func=<function SearchHotelTools.budget_range at 0x000001BAFA2FCA40>),\n",
       " StructuredTool(name='add', description='add two integers\\n\\nArgs:\\na(int): first integer\\nb(int): second integer\\nreturns:\\nint : sum of a and b', args_schema=<class 'langchain_core.utils.pydantic.add'>, func=<function TourBudgetTools.add at 0x000001BAFA2FC5E0>),\n",
       " StructuredTool(name='multiply', description='multiply two integers\\n\\nArgs:\\na(int) : first integer\\nb(int) : second integer\\nreturns:\\nint : product of two numbers', args_schema=<class 'langchain_core.utils.pydantic.multiply'>, func=<function TourBudgetTools.multiply at 0x000001BAFA2FC9A0>),\n",
       " StructuredTool(name='calculated_total_cost', description='returns total cost of the tour', args_schema=<class 'langchain_core.utils.pydantic.calculated_total_cost'>, func=<function TourBudgetTools.calculated_total_cost at 0x000001BAFA2FC400>),\n",
       " StructuredTool(name='calculate_daily_budget', description='returns howmuch costs per day', args_schema=<class 'langchain_core.utils.pydantic.calculate_daily_budget'>, func=<function TourBudgetTools.calculate_daily_budget at 0x000001BAF9DAAFC0>),\n",
       " StructuredTool(name='get_exchange_rate', description='get exchange rate of currency from_currency to to_currency', args_schema=<class 'langchain_core.utils.pydantic.get_exchange_rate'>, func=<function CurrencyConversionTools.get_exchange_rate at 0x000001BAFA2BF920>),\n",
       " StructuredTool(name='convert_currency', description='Convert current currency to expected currency', args_schema=<class 'langchain_core.utils.pydantic.convert_currency'>, func=<function CurrencyConversionTools.convert_currency at 0x000001BAFA2BD760>),\n",
       " StructuredTool(name='get_day_plan', description='Give Tour plan day-wise', args_schema=<class 'langchain_core.utils.pydantic.get_day_plan'>, func=<function ItineraryTools.get_day_plan at 0x000001BAFA2BFF60>),\n",
       " StructuredTool(name='create_full_itinerary', description='give travel itinery plann', args_schema=<class 'langchain_core.utils.pydantic.create_full_itinerary'>, func=<function ItineraryTools.create_full_itinerary at 0x000001BAFA2BE200>)]"
      ]
     },
     "execution_count": 118,
     "metadata": {},
     "output_type": "execute_result"
    }
   ],
   "source": [
    "tools"
   ]
  },
  {
   "cell_type": "code",
   "execution_count": 134,
   "id": "09db9110",
   "metadata": {},
   "outputs": [
    {
     "data": {
      "text/plain": [
       "<langgraph.graph.state.StateGraph at 0x1baf9dd1520>"
      ]
     },
     "execution_count": 134,
     "metadata": {},
     "output_type": "execute_result"
    }
   ],
   "source": [
    "from langgraph.prebuilt import ToolNode\n",
    "builder.add_node(\"tools\",ToolNode(tools))\n",
    "builder.add_edge(START,\"llm_decision_step\")"
   ]
  },
  {
   "cell_type": "code",
   "execution_count": 135,
   "id": "664e04ef",
   "metadata": {},
   "outputs": [
    {
     "data": {
      "text/plain": [
       "<langgraph.graph.state.StateGraph at 0x1baf9dd1520>"
      ]
     },
     "execution_count": 135,
     "metadata": {},
     "output_type": "execute_result"
    }
   ],
   "source": [
    "from langgraph.prebuilt import tools_condition\n",
    "builder.add_conditional_edges(\n",
    "    \"llm_decision_step\",\n",
    "    tools_condition,\n",
    ")"
   ]
  },
  {
   "cell_type": "code",
   "execution_count": 121,
   "id": "e5805442",
   "metadata": {},
   "outputs": [
    {
     "data": {
      "image/png": "[encoded data removed]",
      "text/plain": [
       "<IPython.core.display.Image object>"
      ]
     },
     "metadata": {},
     "output_type": "display_data"
    }
   ],
   "source": [
    "builder.add_edge(\"tools\",\"llm_decision_step\")\n",
    "\n",
    "react_graph=builder.compile()\n",
    "from IPython.display import Image, display\n",
    "display(Image(react_graph.get_graph().draw_mermaid_png()))"
   ]
  },
  {
   "cell_type": "code",
   "execution_count": 136,
   "id": "753f04f0",
   "metadata": {},
   "outputs": [],
   "source": [
    "message=[HumanMessage(content=\"What is best place to travel in USA with 10 lakh inr in 5 days?\")]"
   ]
  },
  {
   "cell_type": "code",
   "execution_count": 137,
   "id": "2187b912",
   "metadata": {},
   "outputs": [
    {
     "ename": "GraphRecursionError",
     "evalue": "Recursion limit of 25 reached without hitting a stop condition. You can increase the limit by setting the `recursion_limit` config key.\nFor troubleshooting, visit: https://python.langchain.com/docs/troubleshooting/errors/GRAPH_RECURSION_LIMIT",
     "output_type": "error",
     "traceback": [
      "\u001b[31m---------------------------------------------------------------------------\u001b[39m",
      "\u001b[31mGraphRecursionError\u001b[39m                       Traceback (most recent call last)",
      "\u001b[36mCell\u001b[39m\u001b[36m \u001b[39m\u001b[32mIn[137]\u001b[39m\u001b[32m, line 1\u001b[39m\n\u001b[32m----> \u001b[39m\u001b[32m1\u001b[39m response=\u001b[43mreact_graph\u001b[49m\u001b[43m.\u001b[49m\u001b[43minvoke\u001b[49m\u001b[43m(\u001b[49m\u001b[43m{\u001b[49m\u001b[33;43m\"\u001b[39;49m\u001b[33;43mmessages\u001b[39;49m\u001b[33;43m\"\u001b[39;49m\u001b[43m:\u001b[49m\u001b[43mmessage\u001b[49m\u001b[43m}\u001b[49m\u001b[43m)\u001b[49m\n\u001b[32m      2\u001b[39m response[\u001b[33m\"\u001b[39m\u001b[33mmessages\u001b[39m\u001b[33m\"\u001b[39m][-\u001b[32m1\u001b[39m].content\n",
      "\u001b[36mFile \u001b[39m\u001b[32me:\\AgenticAI\\venv\\Lib\\site-packages\\langgraph\\pregel\\__init__.py:2719\u001b[39m, in \u001b[36mPregel.invoke\u001b[39m\u001b[34m(self, input, config, stream_mode, output_keys, interrupt_before, interrupt_after, checkpoint_during, debug, **kwargs)\u001b[39m\n\u001b[32m   2716\u001b[39m chunks: \u001b[38;5;28mlist\u001b[39m[Union[\u001b[38;5;28mdict\u001b[39m[\u001b[38;5;28mstr\u001b[39m, Any], Any]] = []\n\u001b[32m   2717\u001b[39m interrupts: \u001b[38;5;28mlist\u001b[39m[Interrupt] = []\n\u001b[32m-> \u001b[39m\u001b[32m2719\u001b[39m \u001b[43m\u001b[49m\u001b[38;5;28;43;01mfor\u001b[39;49;00m\u001b[43m \u001b[49m\u001b[43mchunk\u001b[49m\u001b[43m \u001b[49m\u001b[38;5;129;43;01min\u001b[39;49;00m\u001b[43m \u001b[49m\u001b[38;5;28;43mself\u001b[39;49m\u001b[43m.\u001b[49m\u001b[43mstream\u001b[49m\u001b[43m(\u001b[49m\n\u001b[32m   2720\u001b[39m \u001b[43m    \u001b[49m\u001b[38;5;28;43minput\u001b[39;49m\u001b[43m,\u001b[49m\n\u001b[32m   2721\u001b[39m \u001b[43m    \u001b[49m\u001b[43mconfig\u001b[49m\u001b[43m,\u001b[49m\n\u001b[32m   2722\u001b[39m \u001b[43m    \u001b[49m\u001b[43mstream_mode\u001b[49m\u001b[43m=\u001b[49m\u001b[43mstream_mode\u001b[49m\u001b[43m,\u001b[49m\n\u001b[32m   2723\u001b[39m \u001b[43m    \u001b[49m\u001b[43moutput_keys\u001b[49m\u001b[43m=\u001b[49m\u001b[43moutput_keys\u001b[49m\u001b[43m,\u001b[49m\n\u001b[32m   2724\u001b[39m \u001b[43m    \u001b[49m\u001b[43minterrupt_before\u001b[49m\u001b[43m=\u001b[49m\u001b[43minterrupt_before\u001b[49m\u001b[43m,\u001b[49m\n\u001b[32m   2725\u001b[39m \u001b[43m    \u001b[49m\u001b[43minterrupt_after\u001b[49m\u001b[43m=\u001b[49m\u001b[43minterrupt_after\u001b[49m\u001b[43m,\u001b[49m\n\u001b[32m   2726\u001b[39m \u001b[43m    \u001b[49m\u001b[43mcheckpoint_during\u001b[49m\u001b[43m=\u001b[49m\u001b[43mcheckpoint_during\u001b[49m\u001b[43m,\u001b[49m\n\u001b[32m   2727\u001b[39m \u001b[43m    \u001b[49m\u001b[43mdebug\u001b[49m\u001b[43m=\u001b[49m\u001b[43mdebug\u001b[49m\u001b[43m,\u001b[49m\n\u001b[32m   2728\u001b[39m \u001b[43m    \u001b[49m\u001b[43m*\u001b[49m\u001b[43m*\u001b[49m\u001b[43mkwargs\u001b[49m\u001b[43m,\u001b[49m\n\u001b[32m   2729\u001b[39m \u001b[43m\u001b[49m\u001b[43m)\u001b[49m\u001b[43m:\u001b[49m\n\u001b[32m   2730\u001b[39m \u001b[43m    \u001b[49m\u001b[38;5;28;43;01mif\u001b[39;49;00m\u001b[43m \u001b[49m\u001b[43mstream_mode\u001b[49m\u001b[43m \u001b[49m\u001b[43m==\u001b[49m\u001b[43m \u001b[49m\u001b[33;43m\"\u001b[39;49m\u001b[33;43mvalues\u001b[39;49m\u001b[33;43m\"\u001b[39;49m\u001b[43m:\u001b[49m\n\u001b[32m   2731\u001b[39m \u001b[43m        \u001b[49m\u001b[38;5;28;43;01mif\u001b[39;49;00m\u001b[43m \u001b[49m\u001b[43m(\u001b[49m\n\u001b[32m   2732\u001b[39m \u001b[43m            \u001b[49m\u001b[38;5;28;43misinstance\u001b[39;49m\u001b[43m(\u001b[49m\u001b[43mchunk\u001b[49m\u001b[43m,\u001b[49m\u001b[43m \u001b[49m\u001b[38;5;28;43mdict\u001b[39;49m\u001b[43m)\u001b[49m\n\u001b[32m   2733\u001b[39m \u001b[43m            \u001b[49m\u001b[38;5;129;43;01mand\u001b[39;49;00m\u001b[43m \u001b[49m\u001b[43m(\u001b[49m\u001b[43mints\u001b[49m\u001b[43m \u001b[49m\u001b[43m:=\u001b[49m\u001b[43m \u001b[49m\u001b[43mchunk\u001b[49m\u001b[43m.\u001b[49m\u001b[43mget\u001b[49m\u001b[43m(\u001b[49m\u001b[43mINTERRUPT\u001b[49m\u001b[43m)\u001b[49m\u001b[43m)\u001b[49m\u001b[43m \u001b[49m\u001b[38;5;129;43;01mis\u001b[39;49;00m\u001b[43m \u001b[49m\u001b[38;5;129;43;01mnot\u001b[39;49;00m\u001b[43m \u001b[49m\u001b[38;5;28;43;01mNone\u001b[39;49;00m\n\u001b[32m   2734\u001b[39m \u001b[43m        \u001b[49m\u001b[43m)\u001b[49m\u001b[43m:\u001b[49m\n",
      "\u001b[36mFile \u001b[39m\u001b[32me:\\AgenticAI\\venv\\Lib\\site-packages\\langgraph\\pregel\\__init__.py:2456\u001b[39m, in \u001b[36mPregel.stream\u001b[39m\u001b[34m(self, input, config, stream_mode, output_keys, interrupt_before, interrupt_after, checkpoint_during, debug, subgraphs)\u001b[39m\n\u001b[32m   2447\u001b[39m \u001b[38;5;28;01mif\u001b[39;00m loop.status == \u001b[33m\"\u001b[39m\u001b[33mout_of_steps\u001b[39m\u001b[33m\"\u001b[39m:\n\u001b[32m   2448\u001b[39m     msg = create_error_message(\n\u001b[32m   2449\u001b[39m         message=(\n\u001b[32m   2450\u001b[39m             \u001b[33mf\u001b[39m\u001b[33m\"\u001b[39m\u001b[33mRecursion limit of \u001b[39m\u001b[38;5;132;01m{\u001b[39;00mconfig[\u001b[33m'\u001b[39m\u001b[33mrecursion_limit\u001b[39m\u001b[33m'\u001b[39m]\u001b[38;5;132;01m}\u001b[39;00m\u001b[33m reached \u001b[39m\u001b[33m\"\u001b[39m\n\u001b[32m   (...)\u001b[39m\u001b[32m   2454\u001b[39m         error_code=ErrorCode.GRAPH_RECURSION_LIMIT,\n\u001b[32m   2455\u001b[39m     )\n\u001b[32m-> \u001b[39m\u001b[32m2456\u001b[39m     \u001b[38;5;28;01mraise\u001b[39;00m GraphRecursionError(msg)\n\u001b[32m   2457\u001b[39m \u001b[38;5;66;03m# set final channel values as run output\u001b[39;00m\n\u001b[32m   2458\u001b[39m run_manager.on_chain_end(loop.output)\n",
      "\u001b[31mGraphRecursionError\u001b[39m: Recursion limit of 25 reached without hitting a stop condition. You can increase the limit by setting the `recursion_limit` config key.\nFor troubleshooting, visit: https://python.langchain.com/docs/troubleshooting/errors/GRAPH_RECURSION_LIMIT"
     ]
    }
   ],
   "source": [
    "response=react_graph.invoke({\"messages\":message})\n",
    "response[\"messages\"][-1].content"
   ]
  },
  {
   "cell_type": "code",
   "execution_count": 84,
   "id": "0ad26ee5",
   "metadata": {},
   "outputs": [],
   "source": [
    "from langchain_core.pydantic_v1 import BaseModel\n",
    "class TravelState(BaseModel):\n",
    "    destination: str\n",
    "    days: int\n",
    "    from_currency: str = \"USD\"\n",
    "    to_currency: str = \"EUR\"\n",
    "    research: str = \"\"\n",
    "    weather: str = \"\"\n",
    "    hotels: str = \"\"\n",
    "    total_cost: float = 0.0\n",
    "    currency_converted: str = \"\"\n",
    "    itinerary: str = \"\"\n",
    "    summary: str = \"\"\n",
    "\n"
   ]
  },
  {
   "cell_type": "code",
   "execution_count": 85,
   "id": "63827811",
   "metadata": {},
   "outputs": [],
   "source": [
    "def city_info_node(state: TravelState):\n",
    "    result = destination_researcher.run(f\"Provide travel information about {state.destination}\")\n",
    "    return {\"research\": result}\n",
    "\n",
    "def weather_node(state: TravelState):\n",
    "    result = weather_agent.run(state.destination)\n",
    "    return {\"weather\": result}\n",
    "\n",
    "def hotels_node(state: TravelState):\n",
    "    result = hotel_agent.run(state.destination)\n",
    "    return {\"hotels\": result}\n",
    "def cost_node(state: TravelState):\n",
    "    try:\n",
    "        # Get dynamic hotel cost\n",
    "        hotel_cost = hotel_agent.run({\n",
    "            \"city\": state.destination,\n",
    "            \"tool\": \"SearchHotelTools.estimate_cost\"\n",
    "        })\n",
    "\n",
    "        # You can optionally extract or compute activities cost (here, a rough fixed value or via separate tool)\n",
    "        activities_cost = destination_researcher.run({\n",
    "            \"city\": state.destination,\n",
    "            \"tool\": \"CityAttractionTools.search_activities\"\n",
    "        })\n",
    "        # You can define logic to estimate a number, or leave it to the agent\n",
    "        estimated_activities_cost = 200.0  # Placeholder if activity result is descriptive text\n",
    "\n",
    "        # Total trip cost\n",
    "        total_cost = currency_agent.run({\n",
    "            \"hotel_cost_per_day\": float(hotel_cost),\n",
    "            \"days\": state.days,\n",
    "            \"activities_cost\": estimated_activities_cost,\n",
    "            \"tool\": \"TourBudgetTools.calculated_total_cost\"\n",
    "        })\n",
    "\n",
    "        return {\"total_cost\": float(total_cost)}\n",
    "\n",
    "    except Exception as e:\n",
    "        return {\"total_cost\": 0.0, \"error\": f\"Failed to calculate cost: {str(e)}\"}\n",
    "def currency_node(state: TravelState):\n",
    "    result = currency_agent.run({\n",
    "        \"amount\": state.total_cost,\n",
    "        \"from_currency\": state.from_currency,\n",
    "        \"to_currency\": state.to_currency\n",
    "    })\n",
    "    return {\"currency_converted\": result}\n"
   ]
  },
  {
   "cell_type": "code",
   "execution_count": 86,
   "id": "1e686004",
   "metadata": {},
   "outputs": [],
   "source": [
    "def itinerary_node(state: TravelState):\n",
    "    result = itinerary_agent.run({\n",
    "        \"city\": state.destination,\n",
    "        \"days\": state.days\n",
    "    })\n",
    "    return {\"itinerary\": result}\n",
    "\n",
    "def trip_summary_node(state: TravelState):\n",
    "    summary = f\"\"\"\n",
    "Trip Summary for {state.destination} ({state.days} days):\n",
    "\n",
    "Destination Research:\n",
    "{state.research}\n",
    "\n",
    "Weather:\n",
    "{state.weather}\n",
    "\n",
    "Hotels:\n",
    "{state.hotels}\n",
    "\n",
    "Estimated Total Cost: ${state.total_cost:.2f} USD  \n",
    "Converted Currency: {state.currency_converted}\n",
    "\n",
    "Itinerary:\n",
    "{state.itinerary}\n",
    "\"\"\"\n",
    "    return {\"summary\": summary}\n"
   ]
  },
  {
   "cell_type": "code",
   "execution_count": 87,
   "id": "451260ff",
   "metadata": {},
   "outputs": [],
   "source": [
    "from langgraph.graph import StateGraph, END\n",
    "graph = StateGraph(TravelState)\n",
    "graph.add_node(\"CityInfo\", city_info_node)\n",
    "graph.add_node(\"Weather\", weather_node)\n",
    "graph.add_node(\"Hotels\", hotels_node)\n",
    "graph.add_node(\"Costs\", cost_node)\n",
    "graph.add_node(\"Currency\", currency_node)\n",
    "graph.add_node(\"Itinerary\", itinerary_node)\n",
    "graph.add_node(\"Summary\", trip_summary_node)\n",
    "\n",
    "graph.set_entry_point(\"CityInfo\")\n",
    "graph.add_edge(\"CityInfo\", \"Weather\")\n",
    "graph.add_edge(\"Weather\", \"Hotels\")\n",
    "graph.add_edge(\"Hotels\", \"Costs\")\n",
    "graph.add_edge(\"Costs\", \"Currency\")\n",
    "graph.add_edge(\"Currency\", \"Itinerary\")\n",
    "graph.add_edge(\"Itinerary\", \"Summary\")\n",
    "graph.set_finish_point(\"Summary\")\n",
    "\n",
    "app = graph.compile()\n"
   ]
  },
  {
   "cell_type": "code",
   "execution_count": 90,
   "id": "0f892103",
   "metadata": {},
   "outputs": [
    {
     "ename": "SyntaxError",
     "evalue": "invalid syntax (2599835819.py, line 1)",
     "output_type": "error",
     "traceback": [
      "  \u001b[36mCell\u001b[39m\u001b[36m \u001b[39m\u001b[32mIn[90]\u001b[39m\u001b[32m, line 1\u001b[39m\n\u001b[31m    \u001b[39m\u001b[31mresult = app.invoke(\"query\" :{\u001b[39m\n                                ^\n\u001b[31mSyntaxError\u001b[39m\u001b[31m:\u001b[39m invalid syntax\n"
     ]
    }
   ],
   "source": [
    "\n",
    "result = app.invoke(\"query\" :{\n",
    "    \"destination\": \"Barcelona\",\n",
    "    \"days\": 5,\n",
    "    \"from_currency\": \"USD\",\n",
    "    \"to_currency\": \"INR\"\n",
    "})\n",
    "\n",
    "print(\"\\nFinal Travel Summary:\\n\", result[\"summary\"])"
   ]
  },
  {
   "cell_type": "code",
   "execution_count": null,
   "id": "982ea56b",
   "metadata": {},
   "outputs": [],
   "source": []
  }
 ],
 "metadata": {
  "kernelspec": {
   "display_name": "Python 3",
   "language": "python",
   "name": "python3"
  },
  "language_info": {
   "codemirror_mode": {
    "name": "ipython",
    "version": 3
   },
   "file_extension": ".py",
   "mimetype": "text/x-python",
   "name": "python",
   "nbconvert_exporter": "python",
   "pygments_lexer": "ipython3",
   "version": "3.12.0"
  }
 },
 "nbformat": 4,
 "nbformat_minor": 5
}
